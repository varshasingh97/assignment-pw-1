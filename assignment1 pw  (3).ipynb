{
 "cells": [
  {
   "cell_type": "code",
   "execution_count": 1,
   "id": "de57e24d-6678-4a15-a9eb-c55b060c7b2c",
   "metadata": {},
   "outputs": [],
   "source": [
    "#  question 1   create one variable containing following types of data \n",
    "#                string,float, tuple, list\n"
   ]
  },
  {
   "cell_type": "code",
   "execution_count": 2,
   "id": "0e0c3340-c521-48ce-bad4-cbbd99f824cb",
   "metadata": {},
   "outputs": [],
   "source": [
    "A = ( 443.67,\"abc\",[ 13,4,78,\"xyz\", True ], (23,56,90,\"mno\") )"
   ]
  },
  {
   "cell_type": "code",
   "execution_count": 13,
   "id": "8adc00a6-2b91-4d05-b8c9-881c4e88e3dc",
   "metadata": {},
   "outputs": [],
   "source": [
    "\"\"\" question 2  name the data type of following \n",
    "var1 =''                      (string)\n",
    "var2 = '[DS,ML,PYTHON]'       (string)\n",
    "var3 = [\"DS\",\"ML\",\"PYTHON\"]    (list)\n",
    "var4 = 1.                      (integer) \"\"\""
   ]
  },
  {
   "cell_type": "code",
   "execution_count": 17,
   "id": "13feae12-3b34-47d7-9f53-ac5b5e02696c",
   "metadata": {},
   "outputs": [
    {
     "data": {
      "text/plain": [
       "' explain use of operator \\n 1. / = divide operator \\n 2. % = modulous operator\\n 3. // = floor division \\n 4. ** = exponant operator '"
      ]
     },
     "execution_count": 17,
     "metadata": {},
     "output_type": "execute_result"
    }
   ],
   "source": [
    "\"\"\" Q3. explain use of operator \n",
    " 1. / = divide operator \n",
    " 2. % = modulous operator\n",
    " 3. // = floor division \n",
    " 4. ** = exponant operator \"\"\""
   ]
  },
  {
   "cell_type": "code",
   "execution_count": 16,
   "id": "7cd2318e-ff62-417e-a2c3-331510e974e3",
   "metadata": {},
   "outputs": [
    {
     "data": {
      "text/plain": [
       "10.0"
      ]
     },
     "execution_count": 16,
     "metadata": {},
     "output_type": "execute_result"
    }
   ],
   "source": [
    "50/5"
   ]
  },
  {
   "cell_type": "code",
   "execution_count": 18,
   "id": "26221fac-9a02-47c5-a62b-1e7a3142f5bf",
   "metadata": {},
   "outputs": [
    {
     "data": {
      "text/plain": [
       "2"
      ]
     },
     "execution_count": 18,
     "metadata": {},
     "output_type": "execute_result"
    }
   ],
   "source": [
    "67%5"
   ]
  },
  {
   "cell_type": "code",
   "execution_count": 19,
   "id": "6bf90c07-6159-4c8f-9795-3b52cd6b4c37",
   "metadata": {},
   "outputs": [
    {
     "data": {
      "text/plain": [
       "13"
      ]
     },
     "execution_count": 19,
     "metadata": {},
     "output_type": "execute_result"
    }
   ],
   "source": [
    "67//5"
   ]
  },
  {
   "cell_type": "code",
   "execution_count": 57,
   "id": "9cb8c16a-b4a8-430f-9cb3-8759ccd85455",
   "metadata": {},
   "outputs": [
    {
     "data": {
      "text/plain": [
       "125"
      ]
     },
     "execution_count": 57,
     "metadata": {},
     "output_type": "execute_result"
    }
   ],
   "source": [
    "5**3"
   ]
  },
  {
   "cell_type": "code",
   "execution_count": null,
   "id": "675741c2-d0cb-4aef-8262-baec74bdcf7d",
   "metadata": {},
   "outputs": [],
   "source": [
    "# Q4 Create a list of length 10 of your choice containing multiple types of data.\n",
    "#Using for loop print theelement and its data type."
   ]
  },
  {
   "cell_type": "code",
   "execution_count": 26,
   "id": "346a3109-1164-4b27-82c1-1e18e0c04cde",
   "metadata": {},
   "outputs": [],
   "source": [
    "a = [ 23, 45.67, \"abc\", True, 5+4j ]"
   ]
  },
  {
   "cell_type": "code",
   "execution_count": 27,
   "id": "cbfd4145-fa29-4b25-8c23-b2306b3c729a",
   "metadata": {},
   "outputs": [
    {
     "name": "stdout",
     "output_type": "stream",
     "text": [
      "23\n",
      "<class 'int'>\n",
      "45.67\n",
      "<class 'float'>\n",
      "abc\n",
      "<class 'str'>\n",
      "True\n",
      "<class 'bool'>\n",
      "(5+4j)\n",
      "<class 'complex'>\n"
     ]
    }
   ],
   "source": [
    "for i in a :\n",
    "    print(i)\n",
    "    print(type(i))"
   ]
  },
  {
   "cell_type": "code",
   "execution_count": 28,
   "id": "6ce30311-8920-48e5-bd49-93d958763e41",
   "metadata": {},
   "outputs": [
    {
     "data": {
      "text/plain": [
       "' question 5 Using a while loop, verify if the number A is purely divisible by number B and if so then how many\\ntimes it can be divisible.'"
      ]
     },
     "execution_count": 28,
     "metadata": {},
     "output_type": "execute_result"
    }
   ],
   "source": [
    "\"\"\" question 5 Using a while loop, verify if the number A is purely divisible by number B and if so then how many\n",
    "times it can be divisible.\"\"\""
   ]
  },
  {
   "cell_type": "code",
   "execution_count": 29,
   "id": "fc181dd9-c0fe-4e49-8296-3c92ce7d2a67",
   "metadata": {},
   "outputs": [],
   "source": [
    "#  Q6. Create a list containing 25 int type data. Using for loop and if-else condition \n",
    "#print if the element is divisible by 3 or not."
   ]
  },
  {
   "cell_type": "code",
   "execution_count": 30,
   "id": "6ff54cd3-e2ca-477f-b5aa-7e1740a03545",
   "metadata": {},
   "outputs": [],
   "source": [
    "s = [ 12,34,56,78,43,65,23,32,15,17,86,87,534,535,785,400,60,40,46,68,200,300,450,350,670]"
   ]
  },
  {
   "cell_type": "code",
   "execution_count": 35,
   "id": "4984e189-d59e-4f6e-b6f5-d89661d0db2e",
   "metadata": {},
   "outputs": [
    {
     "name": "stdout",
     "output_type": "stream",
     "text": [
      "12 element is divisible by 3\n",
      "34 element is not divisible by 3\n",
      "56 element is not divisible by 3\n",
      "78 element is divisible by 3\n",
      "43 element is not divisible by 3\n",
      "65 element is not divisible by 3\n",
      "23 element is not divisible by 3\n",
      "32 element is not divisible by 3\n",
      "15 element is divisible by 3\n",
      "17 element is not divisible by 3\n",
      "86 element is not divisible by 3\n",
      "87 element is divisible by 3\n",
      "534 element is divisible by 3\n",
      "535 element is not divisible by 3\n",
      "785 element is not divisible by 3\n",
      "400 element is not divisible by 3\n",
      "60 element is divisible by 3\n",
      "40 element is not divisible by 3\n",
      "46 element is not divisible by 3\n",
      "68 element is not divisible by 3\n",
      "200 element is not divisible by 3\n",
      "300 element is divisible by 3\n",
      "450 element is divisible by 3\n",
      "350 element is not divisible by 3\n",
      "670 element is not divisible by 3\n"
     ]
    }
   ],
   "source": [
    "for i in s :\n",
    "    if i%3 == 0:\n",
    "        print(i,\"element is divisible by 3\" )\n",
    "    else :\n",
    "        print (i,\"element is not divisible by 3\")"
   ]
  },
  {
   "cell_type": "code",
   "execution_count": 37,
   "id": "890cfae4-a5e1-4f45-ae1d-10b6aeb501f2",
   "metadata": {},
   "outputs": [],
   "source": [
    "# question 7:mutable data can be mutated or changed or corrected whereas immutable data c not be changed \n",
    "# example  string is immutable whereas list and integer are mutable ."
   ]
  },
  {
   "cell_type": "code",
   "execution_count": 38,
   "id": "ea5e67b9-e646-4ddd-81e5-97f728822ddd",
   "metadata": {},
   "outputs": [],
   "source": [
    "b = [23,45,56,78]"
   ]
  },
  {
   "cell_type": "code",
   "execution_count": 39,
   "id": "5d56c054-89dc-40d8-8a30-ba6d3735eed1",
   "metadata": {},
   "outputs": [],
   "source": [
    "b[0]=60"
   ]
  },
  {
   "cell_type": "code",
   "execution_count": 40,
   "id": "e5791926-1a4f-4143-b3e5-6a62b263b1cc",
   "metadata": {},
   "outputs": [
    {
     "data": {
      "text/plain": [
       "[60, 45, 56, 78]"
      ]
     },
     "execution_count": 40,
     "metadata": {},
     "output_type": "execute_result"
    }
   ],
   "source": [
    "b"
   ]
  },
  {
   "cell_type": "code",
   "execution_count": 44,
   "id": "96268d50-b6b1-473d-b918-ddcaf2a38053",
   "metadata": {},
   "outputs": [],
   "source": [
    "var = \"varsha2020\""
   ]
  },
  {
   "cell_type": "code",
   "execution_count": 56,
   "id": "b81017db-6f07-4931-8421-eb6b65e3a170",
   "metadata": {},
   "outputs": [
    {
     "ename": "TypeError",
     "evalue": "'str' object does not support item assignment",
     "output_type": "error",
     "traceback": [
      "\u001b[0;31m---------------------------------------------------------------------------\u001b[0m",
      "\u001b[0;31mTypeError\u001b[0m                                 Traceback (most recent call last)",
      "Cell \u001b[0;32mIn[56], line 1\u001b[0m\n\u001b[0;32m----> 1\u001b[0m \u001b[43mvar\u001b[49m\u001b[43m[\u001b[49m\u001b[38;5;241;43m0\u001b[39;49m\u001b[43m]\u001b[49m\u001b[38;5;241m=\u001b[39m k\n\u001b[1;32m      2\u001b[0m \u001b[38;5;28mprint\u001b[39m(var)\n",
      "\u001b[0;31mTypeError\u001b[0m: 'str' object does not support item assignment"
     ]
    }
   ],
   "source": [
    "var[0]= k\n",
    "print(var)"
   ]
  },
  {
   "cell_type": "code",
   "execution_count": null,
   "id": "a8f5c49c-c5a1-4594-bea9-f410e3517dd9",
   "metadata": {},
   "outputs": [],
   "source": []
  }
 ],
 "metadata": {
  "kernelspec": {
   "display_name": "Python 3 (ipykernel)",
   "language": "python",
   "name": "python3"
  },
  "language_info": {
   "codemirror_mode": {
    "name": "ipython",
    "version": 3
   },
   "file_extension": ".py",
   "mimetype": "text/x-python",
   "name": "python",
   "nbconvert_exporter": "python",
   "pygments_lexer": "ipython3",
   "version": "3.10.8"
  }
 },
 "nbformat": 4,
 "nbformat_minor": 5
}
